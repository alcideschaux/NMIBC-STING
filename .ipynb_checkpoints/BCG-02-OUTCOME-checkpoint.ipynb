{
 "cells": [
  {
   "cell_type": "code",
   "execution_count": 4,
   "metadata": {},
   "outputs": [
    {
     "name": "stdout",
     "output_type": "stream",
     "text": [
      "<class 'pandas.core.frame.DataFrame'>\n",
      "Index: 51 entries, 04-S-6743 to 99-S-5927\n",
      "Data columns (total 16 columns):\n",
      " #   Column                  Non-Null Count  Dtype   \n",
      "---  ------                  --------------  -----   \n",
      " 0   pt                      46 non-null     object  \n",
      " 1   lesion                  51 non-null     object  \n",
      " 2   turb                    51 non-null     int64   \n",
      " 3   recurrence_next         45 non-null     object  \n",
      " 4   recurrence_any          51 non-null     object  \n",
      " 5   progression_grade_next  47 non-null     object  \n",
      " 6   progression_grade_any   51 non-null     object  \n",
      " 7   progression_stage_next  44 non-null     object  \n",
      " 8   progression_stage_any   51 non-null     object  \n",
      " 9   sp_bcg_timing           51 non-null     category\n",
      " 10  sting_tumor             30 non-null     float64 \n",
      " 11  sting_inflammatory      23 non-null     float64 \n",
      " 12  cgas_tumor              30 non-null     float64 \n",
      " 13  cgas_inflammatory       23 non-null     float64 \n",
      " 14  pirf3_tumor             30 non-null     float64 \n",
      " 15  pirf3_inflammatory      23 non-null     float64 \n",
      "dtypes: category(1), float64(6), int64(1), object(8)\n",
      "memory usage: 6.5+ KB\n"
     ]
    }
   ],
   "source": [
    "import pandas as pd\n",
    "import numpy as np\n",
    "import scipy.stats\n",
    "import seaborn as sns\n",
    "from IPython.display import Math\n",
    "sns.set(rc={'figure.figsize':[12,8]})\n",
    "\n",
    "df = pd.read_pickle('DB_SP.pkl')\n",
    "\n",
    "df = df.astype({'sp_bcg_timing':'category'})\n",
    "df['sp_bcg_timing'].cat.reorder_categories(['Pre','Post'], ordered=True, inplace=True)\n",
    "\n",
    "df.info()"
   ]
  },
  {
   "cell_type": "code",
   "execution_count": null,
   "metadata": {},
   "outputs": [],
   "source": [
    "# Functions\n",
    "def compare_expression(marker, group):\n",
    "    tbl = df.groupby(group)[marker].describe().round()\n",
    "    p = scipy.stats.mannwhitneyu(*[data[marker].values for name, data in df.groupby(group)])[1]\n",
    "    g = sns.boxplot(x=group, y=marker, data=df)\n",
    "    display(tbl, Math('P = {:.1E}'.format(p)))"
   ]
  },
  {
   "cell_type": "markdown",
   "metadata": {},
   "source": [
    "# Response to treatment"
   ]
  },
  {
   "cell_type": "code",
   "execution_count": 2,
   "metadata": {},
   "outputs": [],
   "source": [
    "# Comparing expression before and after BCG treatment\n",
    "group = 'sp_bcg_timing'"
   ]
  },
  {
   "cell_type": "markdown",
   "metadata": {},
   "source": [
    "## STING in tumor cells"
   ]
  },
  {
   "cell_type": "code",
   "execution_count": 3,
   "metadata": {},
   "outputs": [
    {
     "data": {
      "text/html": [
       "<div>\n",
       "<style scoped>\n",
       "    .dataframe tbody tr th:only-of-type {\n",
       "        vertical-align: middle;\n",
       "    }\n",
       "\n",
       "    .dataframe tbody tr th {\n",
       "        vertical-align: top;\n",
       "    }\n",
       "\n",
       "    .dataframe thead th {\n",
       "        text-align: right;\n",
       "    }\n",
       "</style>\n",
       "<table border=\"1\" class=\"dataframe\">\n",
       "  <thead>\n",
       "    <tr style=\"text-align: right;\">\n",
       "      <th></th>\n",
       "      <th>count</th>\n",
       "      <th>mean</th>\n",
       "      <th>std</th>\n",
       "      <th>min</th>\n",
       "      <th>25%</th>\n",
       "      <th>50%</th>\n",
       "      <th>75%</th>\n",
       "      <th>max</th>\n",
       "    </tr>\n",
       "    <tr>\n",
       "      <th>sp_bcg_timing</th>\n",
       "      <th></th>\n",
       "      <th></th>\n",
       "      <th></th>\n",
       "      <th></th>\n",
       "      <th></th>\n",
       "      <th></th>\n",
       "      <th></th>\n",
       "      <th></th>\n",
       "    </tr>\n",
       "  </thead>\n",
       "  <tbody>\n",
       "    <tr>\n",
       "      <th>Pre</th>\n",
       "      <td>16.0</td>\n",
       "      <td>18.0</td>\n",
       "      <td>30.0</td>\n",
       "      <td>0.0</td>\n",
       "      <td>0.0</td>\n",
       "      <td>2.0</td>\n",
       "      <td>17.0</td>\n",
       "      <td>90.0</td>\n",
       "    </tr>\n",
       "    <tr>\n",
       "      <th>Post</th>\n",
       "      <td>14.0</td>\n",
       "      <td>24.0</td>\n",
       "      <td>32.0</td>\n",
       "      <td>0.0</td>\n",
       "      <td>1.0</td>\n",
       "      <td>10.0</td>\n",
       "      <td>30.0</td>\n",
       "      <td>80.0</td>\n",
       "    </tr>\n",
       "  </tbody>\n",
       "</table>\n",
       "</div>"
      ],
      "text/plain": [
       "               count  mean   std  min  25%   50%   75%   max\n",
       "sp_bcg_timing                                               \n",
       "Pre             16.0  18.0  30.0  0.0  0.0   2.0  17.0  90.0\n",
       "Post            14.0  24.0  32.0  0.0  1.0  10.0  30.0  80.0"
      ]
     },
     "metadata": {},
     "output_type": "display_data"
    },
    {
     "data": {
      "text/latex": [
       "$\\displaystyle P = 9.7E-02$"
      ],
      "text/plain": [
       "<IPython.core.display.Math object>"
      ]
     },
     "metadata": {},
     "output_type": "display_data"
    },
    {
     "data": {
      "image/png": "[encoded data removed]",
      "text/plain": [
       "<Figure size 864x576 with 1 Axes>"
      ]
     },
     "metadata": {},
     "output_type": "display_data"
    }
   ],
   "source": [
    "marker = 'sting_tumor'\n",
    "compare_expression(marker, group)"
   ]
  },
  {
   "cell_type": "code",
   "execution_count": null,
   "metadata": {},
   "outputs": [],
   "source": []
  }
 ],
 "metadata": {
  "kernelspec": {
   "display_name": "Python 3",
   "language": "python",
   "name": "python3"
  },
  "language_info": {
   "codemirror_mode": {
    "name": "ipython",
    "version": 3
   },
   "file_extension": ".py",
   "mimetype": "text/x-python",
   "name": "python",
   "nbconvert_exporter": "python",
   "pygments_lexer": "ipython3",
   "version": "3.8.5"
  }
 },
 "nbformat": 4,
 "nbformat_minor": 4
}
